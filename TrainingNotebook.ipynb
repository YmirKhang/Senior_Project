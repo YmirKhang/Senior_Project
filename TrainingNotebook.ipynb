{
 "cells": [
  {
   "cell_type": "markdown",
   "metadata": {
    "collapsed": true
   },
   "source": [
    "# Senior Project Notebook  \n",
    "In the first phase I have downloaded the matched dataset from the Lakh Midi Dataset and cleared the songs with duplicate midi files after that I have run a web scraper for spotify api to get the features about the songs from spotify like tempo, danceability and so on. I have tried to match artists and songs that were available in spotify. After removing all the duplicates and unmatched songs 3800 songs are left for training\n",
    "Songs are in the clear_midi file,where the folder name specifies the artist name and the file name specifies the artist name. The scraper I have used stores the data in a file called statistics.csv\n"
   ]
  },
  {
   "cell_type": "code",
   "execution_count": 1,
   "metadata": {},
   "outputs": [],
   "source": [
    "from music21 import converter, instrument, note, chord\n",
    "import matplotlib\n",
    "import pandas as pd\n",
    "import numpy as np\n",
    "from math import ceil\n",
    "from threading import Thread, Lock\n",
    "\n",
    "num_threads = 8\n",
    "\n",
    "note_dict = {\n",
    "        'C':0,\n",
    "        'D':2,\n",
    "        'E':4,\n",
    "        'F':5,\n",
    "        'G':7,\n",
    "        'A':9,\n",
    "        'B':11\n",
    "    }"
   ]
  },
  {
   "cell_type": "code",
   "execution_count": 2,
   "metadata": {},
   "outputs": [],
   "source": [
    "#To extract genres from a list of genres\n",
    "def genre_extractor(row, lookup_genre):\n",
    "    for genre in row['genres']:\n",
    "        if lookup_genre in genre:\n",
    "            return 1\n",
    "    return 0\n",
    "\n",
    "#Helper function\n",
    "def string_to_list(row):\n",
    "    return [s.strip()[1:-1] for s in row['genres'][1:-1].split(\",\")]"
   ]
  },
  {
   "cell_type": "code",
   "execution_count": 3,
   "metadata": {},
   "outputs": [],
   "source": [
    "# Function to get numerical note value from text\n",
    "def get_notes(text):\n",
    "    val = (int(text[-1]) - 1) * 12\n",
    "    val = val + note_dict[text[0]]\n",
    "    if text[1] == '-':\n",
    "        val = val -1\n",
    "    elif text[1] == '#':\n",
    "        val = val + 1\n",
    "    while val > 72:\n",
    "        val = val - 12\n",
    "    return val"
   ]
  },
  {
   "cell_type": "markdown",
   "metadata": {},
   "source": [
    "### Input data construction  \n",
    "Here we construct a matrix with rows as the duration * 4 to take each row as a quarter note  \n",
    "And the columns consists of 73 notes from C1 to C7 and additional duration feature"
   ]
  },
  {
   "cell_type": "code",
   "execution_count": 4,
   "metadata": {},
   "outputs": [],
   "source": [
    "def midi_to_input(artist, song, key):\n",
    "    midi = converter.parse('./clean_midi/' + artist+'/'+ song + '.mid')\n",
    "    notes_to_parse = None\n",
    "    parts = instrument.partitionByInstrument(midi)\n",
    "    print(song)\n",
    "    \n",
    "    if parts: \n",
    "        # get the track with the most notes from the instruments\n",
    "        notes_to_parse = max(parts.parts, key=lambda p: p.__len__()).flat.notes\n",
    "    else: \n",
    "        #single instrument\n",
    "        notes_to_parse = midi.flat.notes\n",
    "    transposed = transpose(notes_to_parse, key, notes_to_parse.analyze('ambitus').noteStart, notes_to_parse.analyze('ambitus').noteEnd)\n",
    "    duration = notes_to_parse.duration.quarterLength\n",
    "    notes = np.zeros((ceil(duration*4) + 1, 74))\n",
    "    for element in transposed:\n",
    "        if isinstance(element, note.Note):\n",
    "            timestep = int(round(element.offset*4)) \n",
    "            notes[timestep, get_notes(element.pitch.nameWithOctave)] = element.volume.velocityScalar\n",
    "            notes[timestep, 73] = max(notes[timestep, 73], element.duration.quarterLength)\n",
    "        elif isinstance(element, chord.Chord):\n",
    "            timestep = int(round(element.offset*4)) \n",
    "            for part in element:\n",
    "                notes[timestep, get_notes(part.pitch.nameWithOctave)] = part.volume.velocityScalar\n",
    "            notes[timestep, 73] = max(notes[timestep, 73], element.duration.quarterLength)     \n",
    "    return notes"
   ]
  },
  {
   "cell_type": "code",
   "execution_count": 5,
   "metadata": {},
   "outputs": [],
   "source": [
    "def transpose(note_stream, key,spectrumStart,spectrumEnd):\n",
    "    start = get_notes(spectrumStart.nameWithOctave)\n",
    "    if (key < 6) and (key<=start):\n",
    "        offset = -1 * key \n",
    "    else:\n",
    "        offset = 12 - key\n",
    "    return note_stream.transpose(offset)"
   ]
  },
  {
   "cell_type": "code",
   "execution_count": 6,
   "metadata": {},
   "outputs": [],
   "source": [
    "### Check if statistics with genres are already present on the folder"
   ]
  },
  {
   "cell_type": "code",
   "execution_count": 7,
   "metadata": {},
   "outputs": [],
   "source": [
    "try:\n",
    "    songs = pd.read_pickle(\"./statistics_with_genres.pkl\")\n",
    "except FileNotFoundError:\n",
    "    songs = pd.read_csv('./statistics.csv')\n",
    "    songs['genres'] = songs.apply(lambda row: string_to_list(row),axis=1)\n",
    "    genre_list = ['pop','rock','jazz','soul','classical','electronic','dance','metal','disco', 'funk']\n",
    "\n",
    "    for genre in genre_list:\n",
    "        songs['is_' + genre] = songs.apply(lambda row: genre_extractor(row, genre), axis = 1)\n",
    "\n",
    "    songs.to_pickle(\"./statistics_with_genres.pkl\")"
   ]
  },
  {
   "cell_type": "code",
   "execution_count": 8,
   "metadata": {},
   "outputs": [],
   "source": [
    "def lstm_input_from_df(df):\n",
    "    df['LSTM_input'] = df.apply(lambda row: midi_to_input(row.artist_name, row.song_name, row.key), axis = 1)"
   ]
  },
  {
   "cell_type": "code",
   "execution_count": 9,
   "metadata": {},
   "outputs": [
    {
     "name": "stdout",
     "output_type": "stream",
     "text": [
      "The Sweetest Taboo\n",
      "Amish Paradise\n",
      "One Way Ticket (Because I Can)\n",
      "Saxy Mood\n",
      "Hyper-Ballad\n",
      "I Just Shot John Lennon\n",
      "The Sweetest Taboo\n",
      "Amish Paradise\n",
      "Hyper-Ballad\n",
      "One Way Ticket (Because I Can)\n",
      "Saxy Mood\n",
      "How Do I Live\n",
      "Headline News\n",
      "Keep Looking\n",
      "Eat It\n",
      "I Just Shot John Lennon\n",
      "Bachelorette\n",
      "Joga\n",
      "Your Love Is King\n",
      "Dare to Be Stupid\n",
      "Io camminero\n",
      "Siempre Hay Esperanza\n",
      "It's Oh So Quiet\n",
      "Around the World   Harder Better Faster Stronger\n",
      "Venus As A Boy\n",
      "Whatta Man\n",
      "The Lamb Lies Down on Broadway\n",
      "Mi manchi\n",
      "Mer losse d'r Dom en Kolle\n",
      "Dreadlock Holiday\n",
      "Canto alla luna\n"
     ]
    },
    {
     "ename": "KeyboardInterrupt",
     "evalue": "",
     "output_type": "error",
     "traceback": [
      "\u001b[0;31m---------------------------------------------------------------------------\u001b[0m",
      "\u001b[0;31mKeyboardInterrupt\u001b[0m                         Traceback (most recent call last)",
      "\u001b[0;32m<ipython-input-9-8621329a2e5f>\u001b[0m in \u001b[0;36m<module>\u001b[0;34m()\u001b[0m\n\u001b[1;32m     14\u001b[0m \u001b[0;34m\u001b[0m\u001b[0m\n\u001b[1;32m     15\u001b[0m \u001b[0;32mfor\u001b[0m \u001b[0mi\u001b[0m \u001b[0;32min\u001b[0m \u001b[0mrange\u001b[0m\u001b[0;34m(\u001b[0m\u001b[0mnum_threads\u001b[0m\u001b[0;34m)\u001b[0m\u001b[0;34m:\u001b[0m\u001b[0;34m\u001b[0m\u001b[0m\n\u001b[0;32m---> 16\u001b[0;31m     \u001b[0mthread_list\u001b[0m\u001b[0;34m[\u001b[0m\u001b[0mi\u001b[0m\u001b[0;34m]\u001b[0m\u001b[0;34m.\u001b[0m\u001b[0mjoin\u001b[0m\u001b[0;34m(\u001b[0m\u001b[0;34m)\u001b[0m\u001b[0;34m\u001b[0m\u001b[0m\n\u001b[0m\u001b[1;32m     17\u001b[0m \u001b[0;34m\u001b[0m\u001b[0m\n\u001b[1;32m     18\u001b[0m \u001b[0mprint\u001b[0m\u001b[0;34m(\u001b[0m\u001b[0;34m\"Finished extracting song input matrices\"\u001b[0m\u001b[0;34m)\u001b[0m\u001b[0;34m\u001b[0m\u001b[0m\n",
      "\u001b[0;32m~/anaconda3/lib/python3.6/threading.py\u001b[0m in \u001b[0;36mjoin\u001b[0;34m(self, timeout)\u001b[0m\n\u001b[1;32m   1054\u001b[0m \u001b[0;34m\u001b[0m\u001b[0m\n\u001b[1;32m   1055\u001b[0m         \u001b[0;32mif\u001b[0m \u001b[0mtimeout\u001b[0m \u001b[0;32mis\u001b[0m \u001b[0;32mNone\u001b[0m\u001b[0;34m:\u001b[0m\u001b[0;34m\u001b[0m\u001b[0m\n\u001b[0;32m-> 1056\u001b[0;31m             \u001b[0mself\u001b[0m\u001b[0;34m.\u001b[0m\u001b[0m_wait_for_tstate_lock\u001b[0m\u001b[0;34m(\u001b[0m\u001b[0;34m)\u001b[0m\u001b[0;34m\u001b[0m\u001b[0m\n\u001b[0m\u001b[1;32m   1057\u001b[0m         \u001b[0;32melse\u001b[0m\u001b[0;34m:\u001b[0m\u001b[0;34m\u001b[0m\u001b[0m\n\u001b[1;32m   1058\u001b[0m             \u001b[0;31m# the behavior of a negative timeout isn't documented, but\u001b[0m\u001b[0;34m\u001b[0m\u001b[0;34m\u001b[0m\u001b[0m\n",
      "\u001b[0;32m~/anaconda3/lib/python3.6/threading.py\u001b[0m in \u001b[0;36m_wait_for_tstate_lock\u001b[0;34m(self, block, timeout)\u001b[0m\n\u001b[1;32m   1070\u001b[0m         \u001b[0;32mif\u001b[0m \u001b[0mlock\u001b[0m \u001b[0;32mis\u001b[0m \u001b[0;32mNone\u001b[0m\u001b[0;34m:\u001b[0m  \u001b[0;31m# already determined that the C code is done\u001b[0m\u001b[0;34m\u001b[0m\u001b[0m\n\u001b[1;32m   1071\u001b[0m             \u001b[0;32massert\u001b[0m \u001b[0mself\u001b[0m\u001b[0;34m.\u001b[0m\u001b[0m_is_stopped\u001b[0m\u001b[0;34m\u001b[0m\u001b[0m\n\u001b[0;32m-> 1072\u001b[0;31m         \u001b[0;32melif\u001b[0m \u001b[0mlock\u001b[0m\u001b[0;34m.\u001b[0m\u001b[0macquire\u001b[0m\u001b[0;34m(\u001b[0m\u001b[0mblock\u001b[0m\u001b[0;34m,\u001b[0m \u001b[0mtimeout\u001b[0m\u001b[0;34m)\u001b[0m\u001b[0;34m:\u001b[0m\u001b[0;34m\u001b[0m\u001b[0m\n\u001b[0m\u001b[1;32m   1073\u001b[0m             \u001b[0mlock\u001b[0m\u001b[0;34m.\u001b[0m\u001b[0mrelease\u001b[0m\u001b[0;34m(\u001b[0m\u001b[0;34m)\u001b[0m\u001b[0;34m\u001b[0m\u001b[0m\n\u001b[1;32m   1074\u001b[0m             \u001b[0mself\u001b[0m\u001b[0;34m.\u001b[0m\u001b[0m_stop\u001b[0m\u001b[0;34m(\u001b[0m\u001b[0;34m)\u001b[0m\u001b[0;34m\u001b[0m\u001b[0m\n",
      "\u001b[0;31mKeyboardInterrupt\u001b[0m: "
     ]
    },
    {
     "name": "stdout",
     "output_type": "stream",
     "text": [
      "Let's Talk About Sex\n",
      "The Lamb Lies Down on Broadway\n",
      "A chi\n",
      "One More Time\n"
     ]
    },
    {
     "name": "stderr",
     "output_type": "stream",
     "text": [
      "Exception in thread Thread-7:\n",
      "Traceback (most recent call last):\n",
      "  File \"/home/ymirkhang/anaconda3/lib/python3.6/threading.py\", line 916, in _bootstrap_inner\n",
      "    self.run()\n",
      "  File \"/home/ymirkhang/anaconda3/lib/python3.6/threading.py\", line 864, in run\n",
      "    self._target(*self._args, **self._kwargs)\n",
      "  File \"<ipython-input-8-e4fbc914f5f5>\", line 2, in lstm_input_from_df\n",
      "    df['LSTM_input'] = df.apply(lambda row: midi_to_input(row.artist_name, row.song_name, row.key), axis = 1)\n",
      "  File \"/home/ymirkhang/anaconda3/lib/python3.6/site-packages/pandas/core/frame.py\", line 6004, in apply\n",
      "    return op.get_result()\n",
      "  File \"/home/ymirkhang/anaconda3/lib/python3.6/site-packages/pandas/core/apply.py\", line 142, in get_result\n",
      "    return self.apply_standard()\n",
      "  File \"/home/ymirkhang/anaconda3/lib/python3.6/site-packages/pandas/core/apply.py\", line 248, in apply_standard\n",
      "    self.apply_series_generator()\n",
      "  File \"/home/ymirkhang/anaconda3/lib/python3.6/site-packages/pandas/core/apply.py\", line 277, in apply_series_generator\n",
      "    results[i] = self.f(v)\n",
      "  File \"<ipython-input-8-e4fbc914f5f5>\", line 2, in <lambda>\n",
      "    df['LSTM_input'] = df.apply(lambda row: midi_to_input(row.artist_name, row.song_name, row.key), axis = 1)\n",
      "  File \"<ipython-input-4-ccf591332ad9>\", line 2, in midi_to_input\n",
      "    midi = converter.parse('./clean_midi/' + artist+'/'+ song + '.mid')\n",
      "  File \"/home/ymirkhang/anaconda3/lib/python3.6/site-packages/music21/converter/__init__.py\", line 1127, in parse\n",
      "    forceSource=forceSource, **keywords)\n",
      "  File \"/home/ymirkhang/anaconda3/lib/python3.6/site-packages/music21/converter/__init__.py\", line 1007, in parseFile\n",
      "    v.parseFile(fp, number=number, format=format, forceSource=forceSource, **keywords)\n",
      "  File \"/home/ymirkhang/anaconda3/lib/python3.6/site-packages/music21/converter/__init__.py\", line 542, in parseFile\n",
      "    self.parseFileNoPickle(fp, number, format, forceSource, **keywords)\n",
      "  File \"/home/ymirkhang/anaconda3/lib/python3.6/site-packages/music21/converter/__init__.py\", line 477, in parseFileNoPickle\n",
      "    self.subConverter.parseFile(fp, number=number, **keywords)\n",
      "  File \"/home/ymirkhang/anaconda3/lib/python3.6/site-packages/music21/converter/subConverters.py\", line 982, in parseFile\n",
      "    midiTranslate.midiFilePathToStream(fp, self.stream, **keywords)\n",
      "  File \"/home/ymirkhang/anaconda3/lib/python3.6/site-packages/music21/midi/translate.py\", line 1973, in midiFilePathToStream\n",
      "    mf.read()\n",
      "  File \"/home/ymirkhang/anaconda3/lib/python3.6/site-packages/music21/midi/__init__.py\", line 1277, in read\n",
      "    self.readstr(self.file.read())\n",
      "  File \"/home/ymirkhang/anaconda3/lib/python3.6/site-packages/music21/midi/__init__.py\", line 1288, in readstr\n",
      "    raise MidiException('badly formated midi bytes, got: %s' % midiStr[:20])\n",
      "music21.midi.MidiException: (\"badly formated midi bytes, got: b'%\\\\xb1\\\\xb9O\\\\x15\\\\x9d+\\\\xe5\\\\x1ei\\\\xe5W\\\\x150\\\\xd6\\\\xad\\\\x1c\\\\xb1\\\\xc2Q'\", 'occurred at index 1559')\n",
      "\n"
     ]
    },
    {
     "name": "stdout",
     "output_type": "stream",
     "text": [
      "Canto alla luna\n",
      "Angeli negri (Angelitos negros)\n"
     ]
    }
   ],
   "source": [
    "songs_per_thread = int(len(songs)/num_threads)\n",
    "df_list = []\n",
    "thread_list = []\n",
    "for i in range(num_threads):\n",
    "    if i == num_threads-1:\n",
    "        df = songs.iloc[i*songs_per_thread:]\n",
    "    else:\n",
    "        df = songs.iloc[i*songs_per_thread: (i+1)*songs_per_thread]\n",
    "    df_list.append(df)\n",
    "    thread_list.append(Thread(target=lstm_input_from_df, args=(df,)))\n",
    "                       \n",
    "for i in range(num_threads):\n",
    "    thread_list[i].start()\n",
    "                    \n",
    "for i in range(num_threads):\n",
    "    thread_list[i].join()\n",
    "                       \n",
    "print(\"Finished extracting song input matrices\")                    "
   ]
  },
  {
   "cell_type": "code",
   "execution_count": null,
   "metadata": {},
   "outputs": [],
   "source": []
  },
  {
   "cell_type": "code",
   "execution_count": null,
   "metadata": {},
   "outputs": [],
   "source": [
    "songs.iloc[1].genres[0]\n"
   ]
  },
  {
   "cell_type": "code",
   "execution_count": null,
   "metadata": {},
   "outputs": [],
   "source": []
  }
 ],
 "metadata": {
  "kernelspec": {
   "display_name": "Python 3",
   "language": "python",
   "name": "python3"
  },
  "language_info": {
   "codemirror_mode": {
    "name": "ipython",
    "version": 3
   },
   "file_extension": ".py",
   "mimetype": "text/x-python",
   "name": "python",
   "nbconvert_exporter": "python",
   "pygments_lexer": "ipython3",
   "version": "3.6.5"
  }
 },
 "nbformat": 4,
 "nbformat_minor": 1
}
